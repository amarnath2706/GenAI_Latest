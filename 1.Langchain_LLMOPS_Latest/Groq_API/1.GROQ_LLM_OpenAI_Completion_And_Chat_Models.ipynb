{
 "cells": [
  {
   "cell_type": "code",
   "execution_count": 2,
   "metadata": {},
   "outputs": [],
   "source": [
    "#load the API key\n",
    "import os\n",
    "from dotenv import load_dotenv, find_dotenv\n",
    "_ = load_dotenv(find_dotenv())\n",
    "#openai_api_key = os.environ[\"OPENAI_API_KEY\"]\n",
    "groq_api_key = os.environ[\"GROQ_API_KEY\"]"
   ]
  },
  {
   "cell_type": "code",
   "execution_count": 3,
   "metadata": {},
   "outputs": [],
   "source": [
    "#Documentation\n",
    "#https://python.langchain.com/v0.1/docs/integrations/llms/"
   ]
  },
  {
   "cell_type": "code",
   "execution_count": 7,
   "metadata": {},
   "outputs": [],
   "source": [
    "# Completion model\n",
    "\n",
    "#from langchain_openai import OpenAI\n",
    "from langchain_groq import ChatGroq\n",
    "#llmModel = OpenAI() #By default it load one model here\n",
    "llmModel = ChatGroq()"
   ]
  },
  {
   "cell_type": "code",
   "execution_count": 8,
   "metadata": {},
   "outputs": [],
   "source": [
    "response  = llmModel.invoke(\"Tell me one fun fact about the Kennedy family.\")"
   ]
  },
  {
   "cell_type": "code",
   "execution_count": 9,
   "metadata": {},
   "outputs": [
    {
     "name": "stdout",
     "output_type": "stream",
     "text": [
      "content=\"The Kennedy family had a fondness for competitive sports and games. One famous tradition was the Kennedy Family Football Game, an annual touch football match held on Thanksgiving Day. The game was a lively event, often including multiple generations of Kennedys and even attracting celebrity guests. John F. Kennedy, an avid sportsman, often played quarterback and was known for his spirited play. The games were a symbol of the Kennedy family's camaraderie and love for athletic competition.\" response_metadata={'token_usage': {'completion_tokens': 106, 'prompt_tokens': 18, 'total_tokens': 124, 'completion_time': 0.168000855, 'prompt_time': 0.002470724, 'queue_time': 0.010673244, 'total_time': 0.170471579}, 'model_name': 'mixtral-8x7b-32768', 'system_fingerprint': 'fp_c5f20b5bb1', 'finish_reason': 'stop', 'logprobs': None} id='run-4e0909cf-4297-43a1-8ebc-3dd4a3ce9b44-0' usage_metadata={'input_tokens': 18, 'output_tokens': 106, 'total_tokens': 124}\n"
     ]
    }
   ],
   "source": [
    "print(response)"
   ]
  },
  {
   "cell_type": "code",
   "execution_count": 10,
   "metadata": {},
   "outputs": [
    {
     "name": "stdout",
     "output_type": "stream",
     "text": [
      "content='' id='run-dc95eaf6-8285-43fd-b231-c72051491846'content='Sure' id='run-dc95eaf6-8285-43fd-b231-c72051491846'content=',' id='run-dc95eaf6-8285-43fd-b231-c72051491846'content=' I' id='run-dc95eaf6-8285-43fd-b231-c72051491846'content=\"'\" id='run-dc95eaf6-8285-43fd-b231-c72051491846'content='d' id='run-dc95eaf6-8285-43fd-b231-c72051491846'content=' be' id='run-dc95eaf6-8285-43fd-b231-c72051491846'content=' happy' id='run-dc95eaf6-8285-43fd-b231-c72051491846'content=' to' id='run-dc95eaf6-8285-43fd-b231-c72051491846'content=' share' id='run-dc95eaf6-8285-43fd-b231-c72051491846'content=' a' id='run-dc95eaf6-8285-43fd-b231-c72051491846'content=' fun' id='run-dc95eaf6-8285-43fd-b231-c72051491846'content=' fact' id='run-dc95eaf6-8285-43fd-b231-c72051491846'content=' about' id='run-dc95eaf6-8285-43fd-b231-c72051491846'content=' the' id='run-dc95eaf6-8285-43fd-b231-c72051491846'content=' Kennedy' id='run-dc95eaf6-8285-43fd-b231-c72051491846'content=' family' id='run-dc95eaf6-8285-43fd-b231-c72051491846'content='!' id='run-dc95eaf6-8285-43fd-b231-c72051491846'content='\\n' id='run-dc95eaf6-8285-43fd-b231-c72051491846'content='\\n' id='run-dc95eaf6-8285-43fd-b231-c72051491846'content='One' id='run-dc95eaf6-8285-43fd-b231-c72051491846'content=' interesting' id='run-dc95eaf6-8285-43fd-b231-c72051491846'content=' fact' id='run-dc95eaf6-8285-43fd-b231-c72051491846'content=' about' id='run-dc95eaf6-8285-43fd-b231-c72051491846'content=' the' id='run-dc95eaf6-8285-43fd-b231-c72051491846'content=' Kennedy' id='run-dc95eaf6-8285-43fd-b231-c72051491846'content=' family' id='run-dc95eaf6-8285-43fd-b231-c72051491846'content=' is' id='run-dc95eaf6-8285-43fd-b231-c72051491846'content=' that' id='run-dc95eaf6-8285-43fd-b231-c72051491846'content=' they' id='run-dc95eaf6-8285-43fd-b231-c72051491846'content=' have' id='run-dc95eaf6-8285-43fd-b231-c72051491846'content=' a' id='run-dc95eaf6-8285-43fd-b231-c72051491846'content=' long' id='run-dc95eaf6-8285-43fd-b231-c72051491846'content='-' id='run-dc95eaf6-8285-43fd-b231-c72051491846'content='standing' id='run-dc95eaf6-8285-43fd-b231-c72051491846'content=' tradition' id='run-dc95eaf6-8285-43fd-b231-c72051491846'content=' of' id='run-dc95eaf6-8285-43fd-b231-c72051491846'content=' playing' id='run-dc95eaf6-8285-43fd-b231-c72051491846'content=' touch' id='run-dc95eaf6-8285-43fd-b231-c72051491846'content=' football' id='run-dc95eaf6-8285-43fd-b231-c72051491846'content=' on' id='run-dc95eaf6-8285-43fd-b231-c72051491846'content=' Thank' id='run-dc95eaf6-8285-43fd-b231-c72051491846'content='sg' id='run-dc95eaf6-8285-43fd-b231-c72051491846'content='iving' id='run-dc95eaf6-8285-43fd-b231-c72051491846'content=' Day' id='run-dc95eaf6-8285-43fd-b231-c72051491846'content='.' id='run-dc95eaf6-8285-43fd-b231-c72051491846'content=' This' id='run-dc95eaf6-8285-43fd-b231-c72051491846'content=' tradition' id='run-dc95eaf6-8285-43fd-b231-c72051491846'content=' was' id='run-dc95eaf6-8285-43fd-b231-c72051491846'content=' started' id='run-dc95eaf6-8285-43fd-b231-c72051491846'content=' by' id='run-dc95eaf6-8285-43fd-b231-c72051491846'content=' Joseph' id='run-dc95eaf6-8285-43fd-b231-c72051491846'content=' P' id='run-dc95eaf6-8285-43fd-b231-c72051491846'content='.' id='run-dc95eaf6-8285-43fd-b231-c72051491846'content=' Kennedy' id='run-dc95eaf6-8285-43fd-b231-c72051491846'content=',' id='run-dc95eaf6-8285-43fd-b231-c72051491846'content=' the' id='run-dc95eaf6-8285-43fd-b231-c72051491846'content=' patri' id='run-dc95eaf6-8285-43fd-b231-c72051491846'content='arch' id='run-dc95eaf6-8285-43fd-b231-c72051491846'content=' of' id='run-dc95eaf6-8285-43fd-b231-c72051491846'content=' the' id='run-dc95eaf6-8285-43fd-b231-c72051491846'content=' Kennedy' id='run-dc95eaf6-8285-43fd-b231-c72051491846'content=' family' id='run-dc95eaf6-8285-43fd-b231-c72051491846'content=',' id='run-dc95eaf6-8285-43fd-b231-c72051491846'content=' in' id='run-dc95eaf6-8285-43fd-b231-c72051491846'content=' the' id='run-dc95eaf6-8285-43fd-b231-c72051491846'content=' ' id='run-dc95eaf6-8285-43fd-b231-c72051491846'content='1' id='run-dc95eaf6-8285-43fd-b231-c72051491846'content='9' id='run-dc95eaf6-8285-43fd-b231-c72051491846'content='3' id='run-dc95eaf6-8285-43fd-b231-c72051491846'content='0' id='run-dc95eaf6-8285-43fd-b231-c72051491846'content='s' id='run-dc95eaf6-8285-43fd-b231-c72051491846'content='.' id='run-dc95eaf6-8285-43fd-b231-c72051491846'content=' He' id='run-dc95eaf6-8285-43fd-b231-c72051491846'content=' believed' id='run-dc95eaf6-8285-43fd-b231-c72051491846'content=' that' id='run-dc95eaf6-8285-43fd-b231-c72051491846'content=' physical' id='run-dc95eaf6-8285-43fd-b231-c72051491846'content=' activity' id='run-dc95eaf6-8285-43fd-b231-c72051491846'content=' was' id='run-dc95eaf6-8285-43fd-b231-c72051491846'content=' important' id='run-dc95eaf6-8285-43fd-b231-c72051491846'content=' for' id='run-dc95eaf6-8285-43fd-b231-c72051491846'content=' maintaining' id='run-dc95eaf6-8285-43fd-b231-c72051491846'content=' good' id='run-dc95eaf6-8285-43fd-b231-c72051491846'content=' health' id='run-dc95eaf6-8285-43fd-b231-c72051491846'content=' and' id='run-dc95eaf6-8285-43fd-b231-c72051491846'content=' fost' id='run-dc95eaf6-8285-43fd-b231-c72051491846'content='ering' id='run-dc95eaf6-8285-43fd-b231-c72051491846'content=' a' id='run-dc95eaf6-8285-43fd-b231-c72051491846'content=' strong' id='run-dc95eaf6-8285-43fd-b231-c72051491846'content=' family' id='run-dc95eaf6-8285-43fd-b231-c72051491846'content=' bond' id='run-dc95eaf6-8285-43fd-b231-c72051491846'content='.' id='run-dc95eaf6-8285-43fd-b231-c72051491846'content='\\n' id='run-dc95eaf6-8285-43fd-b231-c72051491846'content='\\n' id='run-dc95eaf6-8285-43fd-b231-c72051491846'content='The' id='run-dc95eaf6-8285-43fd-b231-c72051491846'content=' tradition' id='run-dc95eaf6-8285-43fd-b231-c72051491846'content=' has' id='run-dc95eaf6-8285-43fd-b231-c72051491846'content=' been' id='run-dc95eaf6-8285-43fd-b231-c72051491846'content=' passed' id='run-dc95eaf6-8285-43fd-b231-c72051491846'content=' down' id='run-dc95eaf6-8285-43fd-b231-c72051491846'content=' through' id='run-dc95eaf6-8285-43fd-b231-c72051491846'content=' the' id='run-dc95eaf6-8285-43fd-b231-c72051491846'content=' generations' id='run-dc95eaf6-8285-43fd-b231-c72051491846'content=',' id='run-dc95eaf6-8285-43fd-b231-c72051491846'content=' and' id='run-dc95eaf6-8285-43fd-b231-c72051491846'content=' every' id='run-dc95eaf6-8285-43fd-b231-c72051491846'content=' Thank' id='run-dc95eaf6-8285-43fd-b231-c72051491846'content='sg' id='run-dc95eaf6-8285-43fd-b231-c72051491846'content='iving' id='run-dc95eaf6-8285-43fd-b231-c72051491846'content=',' id='run-dc95eaf6-8285-43fd-b231-c72051491846'content=' members' id='run-dc95eaf6-8285-43fd-b231-c72051491846'content=' of' id='run-dc95eaf6-8285-43fd-b231-c72051491846'content=' the' id='run-dc95eaf6-8285-43fd-b231-c72051491846'content=' Kennedy' id='run-dc95eaf6-8285-43fd-b231-c72051491846'content=' family' id='run-dc95eaf6-8285-43fd-b231-c72051491846'content=' gather' id='run-dc95eaf6-8285-43fd-b231-c72051491846'content=' at' id='run-dc95eaf6-8285-43fd-b231-c72051491846'content=' the' id='run-dc95eaf6-8285-43fd-b231-c72051491846'content=' Kennedy' id='run-dc95eaf6-8285-43fd-b231-c72051491846'content=' compound' id='run-dc95eaf6-8285-43fd-b231-c72051491846'content=' in' id='run-dc95eaf6-8285-43fd-b231-c72051491846'content=' Hy' id='run-dc95eaf6-8285-43fd-b231-c72051491846'content='ann' id='run-dc95eaf6-8285-43fd-b231-c72051491846'content='is' id='run-dc95eaf6-8285-43fd-b231-c72051491846'content=' Port' id='run-dc95eaf6-8285-43fd-b231-c72051491846'content=',' id='run-dc95eaf6-8285-43fd-b231-c72051491846'content=' Massachusetts' id='run-dc95eaf6-8285-43fd-b231-c72051491846'content=',' id='run-dc95eaf6-8285-43fd-b231-c72051491846'content=' to' id='run-dc95eaf6-8285-43fd-b231-c72051491846'content=' play' id='run-dc95eaf6-8285-43fd-b231-c72051491846'content=' a' id='run-dc95eaf6-8285-43fd-b231-c72051491846'content=' game' id='run-dc95eaf6-8285-43fd-b231-c72051491846'content=' of' id='run-dc95eaf6-8285-43fd-b231-c72051491846'content=' touch' id='run-dc95eaf6-8285-43fd-b231-c72051491846'content=' football' id='run-dc95eaf6-8285-43fd-b231-c72051491846'content='.' id='run-dc95eaf6-8285-43fd-b231-c72051491846'content=' The' id='run-dc95eaf6-8285-43fd-b231-c72051491846'content=' game' id='run-dc95eaf6-8285-43fd-b231-c72051491846'content=' is' id='run-dc95eaf6-8285-43fd-b231-c72051491846'content=' often' id='run-dc95eaf6-8285-43fd-b231-c72051491846'content=' referred' id='run-dc95eaf6-8285-43fd-b231-c72051491846'content=' to' id='run-dc95eaf6-8285-43fd-b231-c72051491846'content=' as' id='run-dc95eaf6-8285-43fd-b231-c72051491846'content=' the' id='run-dc95eaf6-8285-43fd-b231-c72051491846'content=' \"' id='run-dc95eaf6-8285-43fd-b231-c72051491846'content='K' id='run-dc95eaf6-8285-43fd-b231-c72051491846'content='enn' id='run-dc95eaf6-8285-43fd-b231-c72051491846'content='edy' id='run-dc95eaf6-8285-43fd-b231-c72051491846'content=' Cup' id='run-dc95eaf6-8285-43fd-b231-c72051491846'content='\"' id='run-dc95eaf6-8285-43fd-b231-c72051491846'content=' or' id='run-dc95eaf6-8285-43fd-b231-c72051491846'content=' the' id='run-dc95eaf6-8285-43fd-b231-c72051491846'content=' \"' id='run-dc95eaf6-8285-43fd-b231-c72051491846'content='K' id='run-dc95eaf6-8285-43fd-b231-c72051491846'content='enn' id='run-dc95eaf6-8285-43fd-b231-c72051491846'content='edy' id='run-dc95eaf6-8285-43fd-b231-c72051491846'content=' Bowl' id='run-dc95eaf6-8285-43fd-b231-c72051491846'content=',\"' id='run-dc95eaf6-8285-43fd-b231-c72051491846'content=' and' id='run-dc95eaf6-8285-43fd-b231-c72051491846'content=' it' id='run-dc95eaf6-8285-43fd-b231-c72051491846'content=' has' id='run-dc95eaf6-8285-43fd-b231-c72051491846'content=' become' id='run-dc95eaf6-8285-43fd-b231-c72051491846'content=' a' id='run-dc95eaf6-8285-43fd-b231-c72051491846'content=' beloved' id='run-dc95eaf6-8285-43fd-b231-c72051491846'content=' tradition' id='run-dc95eaf6-8285-43fd-b231-c72051491846'content=' for' id='run-dc95eaf6-8285-43fd-b231-c72051491846'content=' the' id='run-dc95eaf6-8285-43fd-b231-c72051491846'content=' family' id='run-dc95eaf6-8285-43fd-b231-c72051491846'content='.' id='run-dc95eaf6-8285-43fd-b231-c72051491846'content='\\n' id='run-dc95eaf6-8285-43fd-b231-c72051491846'content='\\n' id='run-dc95eaf6-8285-43fd-b231-c72051491846'content='The' id='run-dc95eaf6-8285-43fd-b231-c72051491846'content=' game' id='run-dc95eaf6-8285-43fd-b231-c72051491846'content=' is' id='run-dc95eaf6-8285-43fd-b231-c72051491846'content=' usually' id='run-dc95eaf6-8285-43fd-b231-c72051491846'content=' played' id='run-dc95eaf6-8285-43fd-b231-c72051491846'content=' on' id='run-dc95eaf6-8285-43fd-b231-c72051491846'content=' the' id='run-dc95eaf6-8285-43fd-b231-c72051491846'content=' lawn' id='run-dc95eaf6-8285-43fd-b231-c72051491846'content=' of' id='run-dc95eaf6-8285-43fd-b231-c72051491846'content=' the' id='run-dc95eaf6-8285-43fd-b231-c72051491846'content=' compound' id='run-dc95eaf6-8285-43fd-b231-c72051491846'content=',' id='run-dc95eaf6-8285-43fd-b231-c72051491846'content=' and' id='run-dc95eaf6-8285-43fd-b231-c72051491846'content=' it' id='run-dc95eaf6-8285-43fd-b231-c72051491846'content=' can' id='run-dc95eaf6-8285-43fd-b231-c72051491846'content=' get' id='run-dc95eaf6-8285-43fd-b231-c72051491846'content=' quite' id='run-dc95eaf6-8285-43fd-b231-c72051491846'content=' competitive' id='run-dc95eaf6-8285-43fd-b231-c72051491846'content='.' id='run-dc95eaf6-8285-43fd-b231-c72051491846'content=' Family' id='run-dc95eaf6-8285-43fd-b231-c72051491846'content=' members' id='run-dc95eaf6-8285-43fd-b231-c72051491846'content=' of' id='run-dc95eaf6-8285-43fd-b231-c72051491846'content=' all' id='run-dc95eaf6-8285-43fd-b231-c72051491846'content=' ages' id='run-dc95eaf6-8285-43fd-b231-c72051491846'content=' and' id='run-dc95eaf6-8285-43fd-b231-c72051491846'content=' abilities' id='run-dc95eaf6-8285-43fd-b231-c72051491846'content=' are' id='run-dc95eaf6-8285-43fd-b231-c72051491846'content=' encouraged' id='run-dc95eaf6-8285-43fd-b231-c72051491846'content=' to' id='run-dc95eaf6-8285-43fd-b231-c72051491846'content=' participate' id='run-dc95eaf6-8285-43fd-b231-c72051491846'content=',' id='run-dc95eaf6-8285-43fd-b231-c72051491846'content=' and' id='run-dc95eaf6-8285-43fd-b231-c72051491846'content=' the' id='run-dc95eaf6-8285-43fd-b231-c72051491846'content=' rules' id='run-dc95eaf6-8285-43fd-b231-c72051491846'content=' are' id='run-dc95eaf6-8285-43fd-b231-c72051491846'content=' often' id='run-dc95eaf6-8285-43fd-b231-c72051491846'content=' adapted' id='run-dc95eaf6-8285-43fd-b231-c72051491846'content=' to' id='run-dc95eaf6-8285-43fd-b231-c72051491846'content=' accommodate' id='run-dc95eaf6-8285-43fd-b231-c72051491846'content=' younger' id='run-dc95eaf6-8285-43fd-b231-c72051491846'content=' players' id='run-dc95eaf6-8285-43fd-b231-c72051491846'content='.' id='run-dc95eaf6-8285-43fd-b231-c72051491846'content=' The' id='run-dc95eaf6-8285-43fd-b231-c72051491846'content=' game' id='run-dc95eaf6-8285-43fd-b231-c72051491846'content=' is' id='run-dc95eaf6-8285-43fd-b231-c72051491846'content=' a' id='run-dc95eaf6-8285-43fd-b231-c72051491846'content=' way' id='run-dc95eaf6-8285-43fd-b231-c72051491846'content=' for' id='run-dc95eaf6-8285-43fd-b231-c72051491846'content=' the' id='run-dc95eaf6-8285-43fd-b231-c72051491846'content=' family' id='run-dc95eaf6-8285-43fd-b231-c72051491846'content=' to' id='run-dc95eaf6-8285-43fd-b231-c72051491846'content=' come' id='run-dc95eaf6-8285-43fd-b231-c72051491846'content=' together' id='run-dc95eaf6-8285-43fd-b231-c72051491846'content=',' id='run-dc95eaf6-8285-43fd-b231-c72051491846'content=' have' id='run-dc95eaf6-8285-43fd-b231-c72051491846'content=' fun' id='run-dc95eaf6-8285-43fd-b231-c72051491846'content=',' id='run-dc95eaf6-8285-43fd-b231-c72051491846'content=' and' id='run-dc95eaf6-8285-43fd-b231-c72051491846'content=' create' id='run-dc95eaf6-8285-43fd-b231-c72051491846'content=' memories' id='run-dc95eaf6-8285-43fd-b231-c72051491846'content=' that' id='run-dc95eaf6-8285-43fd-b231-c72051491846'content=' will' id='run-dc95eaf6-8285-43fd-b231-c72051491846'content=' last' id='run-dc95eaf6-8285-43fd-b231-c72051491846'content=' a' id='run-dc95eaf6-8285-43fd-b231-c72051491846'content=' lifetime' id='run-dc95eaf6-8285-43fd-b231-c72051491846'content='.' id='run-dc95eaf6-8285-43fd-b231-c72051491846'content='\\n' id='run-dc95eaf6-8285-43fd-b231-c72051491846'content='\\n' id='run-dc95eaf6-8285-43fd-b231-c72051491846'content='In' id='run-dc95eaf6-8285-43fd-b231-c72051491846'content=' addition' id='run-dc95eaf6-8285-43fd-b231-c72051491846'content=' to' id='run-dc95eaf6-8285-43fd-b231-c72051491846'content=' being' id='run-dc95eaf6-8285-43fd-b231-c72051491846'content=' a' id='run-dc95eaf6-8285-43fd-b231-c72051491846'content=' fun' id='run-dc95eaf6-8285-43fd-b231-c72051491846'content=' family' id='run-dc95eaf6-8285-43fd-b231-c72051491846'content=' tradition' id='run-dc95eaf6-8285-43fd-b231-c72051491846'content=',' id='run-dc95eaf6-8285-43fd-b231-c72051491846'content=' the' id='run-dc95eaf6-8285-43fd-b231-c72051491846'content=' Kennedy' id='run-dc95eaf6-8285-43fd-b231-c72051491846'content=' Thank' id='run-dc95eaf6-8285-43fd-b231-c72051491846'content='sg' id='run-dc95eaf6-8285-43fd-b231-c72051491846'content='iving' id='run-dc95eaf6-8285-43fd-b231-c72051491846'content=' football' id='run-dc95eaf6-8285-43fd-b231-c72051491846'content=' game' id='run-dc95eaf6-8285-43fd-b231-c72051491846'content=' has' id='run-dc95eaf6-8285-43fd-b231-c72051491846'content=' also' id='run-dc95eaf6-8285-43fd-b231-c72051491846'content=' become' id='run-dc95eaf6-8285-43fd-b231-c72051491846'content=' something' id='run-dc95eaf6-8285-43fd-b231-c72051491846'content=' of' id='run-dc95eaf6-8285-43fd-b231-c72051491846'content=' a' id='run-dc95eaf6-8285-43fd-b231-c72051491846'content=' cultural' id='run-dc95eaf6-8285-43fd-b231-c72051491846'content=' phenomenon' id='run-dc95eaf6-8285-43fd-b231-c72051491846'content='.' id='run-dc95eaf6-8285-43fd-b231-c72051491846'content=' It' id='run-dc95eaf6-8285-43fd-b231-c72051491846'content=' has' id='run-dc95eaf6-8285-43fd-b231-c72051491846'content=' been' id='run-dc95eaf6-8285-43fd-b231-c72051491846'content=' featured' id='run-dc95eaf6-8285-43fd-b231-c72051491846'content=' in' id='run-dc95eaf6-8285-43fd-b231-c72051491846'content=' numerous' id='run-dc95eaf6-8285-43fd-b231-c72051491846'content=' news' id='run-dc95eaf6-8285-43fd-b231-c72051491846'content=' articles' id='run-dc95eaf6-8285-43fd-b231-c72051491846'content=' and' id='run-dc95eaf6-8285-43fd-b231-c72051491846'content=' television' id='run-dc95eaf6-8285-43fd-b231-c72051491846'content=' segments' id='run-dc95eaf6-8285-43fd-b231-c72051491846'content=',' id='run-dc95eaf6-8285-43fd-b231-c72051491846'content=' and' id='run-dc95eaf6-8285-43fd-b231-c72051491846'content=' it' id='run-dc95eaf6-8285-43fd-b231-c72051491846'content=' has' id='run-dc95eaf6-8285-43fd-b231-c72051491846'content=' even' id='run-dc95eaf6-8285-43fd-b231-c72051491846'content=' inspired' id='run-dc95eaf6-8285-43fd-b231-c72051491846'content=' a' id='run-dc95eaf6-8285-43fd-b231-c72051491846'content=' documentary' id='run-dc95eaf6-8285-43fd-b231-c72051491846'content=' film' id='run-dc95eaf6-8285-43fd-b231-c72051491846'content=' called' id='run-dc95eaf6-8285-43fd-b231-c72051491846'content=' \"' id='run-dc95eaf6-8285-43fd-b231-c72051491846'content='The' id='run-dc95eaf6-8285-43fd-b231-c72051491846'content=' Kenn' id='run-dc95eaf6-8285-43fd-b231-c72051491846'content='ed' id='run-dc95eaf6-8285-43fd-b231-c72051491846'content='ys' id='run-dc95eaf6-8285-43fd-b231-c72051491846'content=\"'\" id='run-dc95eaf6-8285-43fd-b231-c72051491846'content=' Game' id='run-dc95eaf6-8285-43fd-b231-c72051491846'content='.\"' id='run-dc95eaf6-8285-43fd-b231-c72051491846'content=' The' id='run-dc95eaf6-8285-43fd-b231-c72051491846'content=' game' id='run-dc95eaf6-8285-43fd-b231-c72051491846'content=' is' id='run-dc95eaf6-8285-43fd-b231-c72051491846'content=' a' id='run-dc95eaf6-8285-43fd-b231-c72051491846'content=' test' id='run-dc95eaf6-8285-43fd-b231-c72051491846'content='ament' id='run-dc95eaf6-8285-43fd-b231-c72051491846'content=' to' id='run-dc95eaf6-8285-43fd-b231-c72051491846'content=' the' id='run-dc95eaf6-8285-43fd-b231-c72051491846'content=' Kennedy' id='run-dc95eaf6-8285-43fd-b231-c72051491846'content=' family' id='run-dc95eaf6-8285-43fd-b231-c72051491846'content=\"'\" id='run-dc95eaf6-8285-43fd-b231-c72051491846'content='s' id='run-dc95eaf6-8285-43fd-b231-c72051491846'content=' love' id='run-dc95eaf6-8285-43fd-b231-c72051491846'content=' of' id='run-dc95eaf6-8285-43fd-b231-c72051491846'content=' sports' id='run-dc95eaf6-8285-43fd-b231-c72051491846'content=',' id='run-dc95eaf6-8285-43fd-b231-c72051491846'content=' their' id='run-dc95eaf6-8285-43fd-b231-c72051491846'content=' commitment' id='run-dc95eaf6-8285-43fd-b231-c72051491846'content=' to' id='run-dc95eaf6-8285-43fd-b231-c72051491846'content=' physical' id='run-dc95eaf6-8285-43fd-b231-c72051491846'content=' fitness' id='run-dc95eaf6-8285-43fd-b231-c72051491846'content=',' id='run-dc95eaf6-8285-43fd-b231-c72051491846'content=' and' id='run-dc95eaf6-8285-43fd-b231-c72051491846'content=' their' id='run-dc95eaf6-8285-43fd-b231-c72051491846'content=' ded' id='run-dc95eaf6-8285-43fd-b231-c72051491846'content='ication' id='run-dc95eaf6-8285-43fd-b231-c72051491846'content=' to' id='run-dc95eaf6-8285-43fd-b231-c72051491846'content=' maintaining' id='run-dc95eaf6-8285-43fd-b231-c72051491846'content=' strong' id='run-dc95eaf6-8285-43fd-b231-c72051491846'content=' family' id='run-dc95eaf6-8285-43fd-b231-c72051491846'content=' bonds' id='run-dc95eaf6-8285-43fd-b231-c72051491846'content='.' id='run-dc95eaf6-8285-43fd-b231-c72051491846'content='' response_metadata={'finish_reason': 'stop'} id='run-dc95eaf6-8285-43fd-b231-c72051491846' usage_metadata={'input_tokens': 22, 'output_tokens': 325, 'total_tokens': 347}"
     ]
    }
   ],
   "source": [
    "for chunk in llmModel.stream(\n",
    "    \"Tell me one fun fact about the Kennedy family.i need detail response\"\n",
    "):\n",
    "    print(chunk, end=\"\", flush= True)"
   ]
  },
  {
   "cell_type": "code",
   "execution_count": 12,
   "metadata": {},
   "outputs": [],
   "source": [
    "#Set some configurations of the model\n",
    "creativeLlmModel = ChatGroq(temperature=0.9)"
   ]
  },
  {
   "cell_type": "code",
   "execution_count": 13,
   "metadata": {},
   "outputs": [],
   "source": [
    "response  = creativeLlmModel.invoke(\"Tell me one fun fact about the Kennedy family.\")"
   ]
  },
  {
   "cell_type": "code",
   "execution_count": 14,
   "metadata": {},
   "outputs": [
    {
     "name": "stdout",
     "output_type": "stream",
     "text": [
      "content='The Kennedy family, particularly the children, were known for their unique and playful nicknames given by their father, Joseph P. Kennedy Sr. Here\\'s a fun fact about one of them:\\n\\nThe nickname for former President John F. Kennedy was \"JFK,\" but his family had a more lighthearted and affectionate name for him. His father called him \"Cactus Jack,\" which was inspired by a historical figure named John Nance Garner, who was also known as \"Cactus Jack\" due to his prickly political demeanor. Interestingly, Garner had served as a Speaker of the House and Vice President, much like Joseph P. Kennedy Sr.\\'s aspirations for his own political career. However, JFK\\'s nickname was not an allusion to his personality but rather a playful connection to the historical figure sharing the same name.' response_metadata={'token_usage': {'completion_tokens': 188, 'prompt_tokens': 18, 'total_tokens': 206, 'completion_time': 0.298399867, 'prompt_time': 0.002173645, 'queue_time': 0.013222544, 'total_time': 0.300573512}, 'model_name': 'mixtral-8x7b-32768', 'system_fingerprint': 'fp_c5f20b5bb1', 'finish_reason': 'stop', 'logprobs': None} id='run-d8391883-3da4-4431-a859-eca2417d33fb-0' usage_metadata={'input_tokens': 18, 'output_tokens': 188, 'total_tokens': 206}\n"
     ]
    }
   ],
   "source": [
    "print(response)"
   ]
  },
  {
   "cell_type": "code",
   "execution_count": 15,
   "metadata": {},
   "outputs": [],
   "source": [
    "response = llmModel.invoke(\n",
    "    \"Write a short 5 line poem about JFK\"\n",
    ")"
   ]
  },
  {
   "cell_type": "code",
   "execution_count": 16,
   "metadata": {},
   "outputs": [
    {
     "name": "stdout",
     "output_type": "stream",
     "text": [
      "content=\"JFK, a leader bold and bright,\\nIn Camelot's castle, he held reign.\\nA visionary with hopeful might,\\nHis legacy, forever unchained.\\n\\nThough assassinated, his spirit takes flight,\\nIn the hearts of those who remember, his name.\" response_metadata={'token_usage': {'completion_tokens': 66, 'prompt_tokens': 19, 'total_tokens': 85, 'completion_time': 0.103516536, 'prompt_time': 0.002282815, 'queue_time': 0.012852434, 'total_time': 0.105799351}, 'model_name': 'mixtral-8x7b-32768', 'system_fingerprint': 'fp_c5f20b5bb1', 'finish_reason': 'stop', 'logprobs': None} id='run-c4d56d94-6ae8-4507-ac40-11fcdacddffb-0' usage_metadata={'input_tokens': 19, 'output_tokens': 66, 'total_tokens': 85}\n"
     ]
    }
   ],
   "source": [
    "print(response)"
   ]
  },
  {
   "cell_type": "markdown",
   "metadata": {},
   "source": [
    "# Chat Model"
   ]
  },
  {
   "cell_type": "code",
   "execution_count": 21,
   "metadata": {},
   "outputs": [],
   "source": [
    "#from langchain_openai import ChatOpenAI\n",
    "from langchain_groq import ChatGroq\n",
    "\n",
    "#chatModel = ChatGroq(model=\"whisper-large-v3\")\n",
    "chatModel = ChatGroq()"
   ]
  },
  {
   "cell_type": "code",
   "execution_count": 22,
   "metadata": {},
   "outputs": [],
   "source": [
    "messages = [\n",
    "    (\"system\", \"You are an historian expert in the Kennedy family.\"),\n",
    "    (\"human\", \"Tell me one curious thing about JFK.\"),\n",
    "]\n",
    "response = chatModel.invoke(messages)"
   ]
  },
  {
   "cell_type": "code",
   "execution_count": 23,
   "metadata": {},
   "outputs": [
    {
     "name": "stdout",
     "output_type": "stream",
     "text": [
      "content=\"One curious thing about John F. Kennedy (JFK) is that he suffered from several health issues throughout his life, many of which were kept secret from the public during his presidency. Kennedy was diagnosed with Addison's disease, a rare disorder of the adrenal glands, in the 1940s. He also had chronic back pain, for which he took painkillers and wore a back brace. Kennedy underwent numerous surgeries to alleviate his back pain and other health problems. His health issues were closely managed by his personal physician, Dr. Janet Travell, who accompanied him during his presidency. Despite his health challenges, JFK was known for his energy and charisma as president.\" response_metadata={'token_usage': {'completion_tokens': 157, 'prompt_tokens': 28, 'total_tokens': 185, 'completion_time': 0.248214399, 'prompt_time': 0.002630925, 'queue_time': 0.011881915, 'total_time': 0.250845324}, 'model_name': 'mixtral-8x7b-32768', 'system_fingerprint': 'fp_c5f20b5bb1', 'finish_reason': 'stop', 'logprobs': None} id='run-1cf8125f-f819-483d-913f-c2590870c19a-0' usage_metadata={'input_tokens': 28, 'output_tokens': 157, 'total_tokens': 185}\n"
     ]
    }
   ],
   "source": [
    "print(response)"
   ]
  },
  {
   "cell_type": "code",
   "execution_count": 24,
   "metadata": {},
   "outputs": [
    {
     "data": {
      "text/plain": [
       "AIMessage(content=\"One curious thing about John F. Kennedy (JFK) is that he suffered from several health issues throughout his life, many of which were kept secret from the public during his presidency. Kennedy was diagnosed with Addison's disease, a rare disorder of the adrenal glands, in the 1940s. He also had chronic back pain, for which he took painkillers and wore a back brace. Kennedy underwent numerous surgeries to alleviate his back pain and other health problems. His health issues were closely managed by his personal physician, Dr. Janet Travell, who accompanied him during his presidency. Despite his health challenges, JFK was known for his energy and charisma as president.\", response_metadata={'token_usage': {'completion_tokens': 157, 'prompt_tokens': 28, 'total_tokens': 185, 'completion_time': 0.248214399, 'prompt_time': 0.002630925, 'queue_time': 0.011881915, 'total_time': 0.250845324}, 'model_name': 'mixtral-8x7b-32768', 'system_fingerprint': 'fp_c5f20b5bb1', 'finish_reason': 'stop', 'logprobs': None}, id='run-1cf8125f-f819-483d-913f-c2590870c19a-0', usage_metadata={'input_tokens': 28, 'output_tokens': 157, 'total_tokens': 185})"
      ]
     },
     "execution_count": 24,
     "metadata": {},
     "output_type": "execute_result"
    }
   ],
   "source": [
    "response"
   ]
  },
  {
   "cell_type": "code",
   "execution_count": 25,
   "metadata": {},
   "outputs": [
    {
     "data": {
      "text/plain": [
       "\"One curious thing about John F. Kennedy (JFK) is that he suffered from several health issues throughout his life, many of which were kept secret from the public during his presidency. Kennedy was diagnosed with Addison's disease, a rare disorder of the adrenal glands, in the 1940s. He also had chronic back pain, for which he took painkillers and wore a back brace. Kennedy underwent numerous surgeries to alleviate his back pain and other health problems. His health issues were closely managed by his personal physician, Dr. Janet Travell, who accompanied him during his presidency. Despite his health challenges, JFK was known for his energy and charisma as president.\""
      ]
     },
     "execution_count": 25,
     "metadata": {},
     "output_type": "execute_result"
    }
   ],
   "source": [
    "response.content"
   ]
  },
  {
   "cell_type": "code",
   "execution_count": null,
   "metadata": {},
   "outputs": [],
   "source": [
    "#Metadata\n",
    "response.response_metadata"
   ]
  },
  {
   "cell_type": "code",
   "execution_count": null,
   "metadata": {},
   "outputs": [],
   "source": [
    "#Schema\n",
    "response.schema()"
   ]
  },
  {
   "cell_type": "markdown",
   "metadata": {},
   "source": [
    "# Old Langchain"
   ]
  },
  {
   "cell_type": "code",
   "execution_count": null,
   "metadata": {},
   "outputs": [],
   "source": [
    "from langchain_core.messages import HumanMessage, SystemMessage"
   ]
  },
  {
   "cell_type": "code",
   "execution_count": null,
   "metadata": {},
   "outputs": [],
   "source": [
    "messages = [\n",
    "    SystemMessage(content=\"You are an historian expert on the Kennedy Family.\"),\n",
    "    HumanMessage(content=\"How many children had Joseph P. Kennedy?\"),\n",
    "]\n",
    "\n",
    "response = chatModel.invoke(messages)"
   ]
  },
  {
   "cell_type": "code",
   "execution_count": null,
   "metadata": {},
   "outputs": [],
   "source": [
    "response"
   ]
  },
  {
   "cell_type": "markdown",
   "metadata": {},
   "source": [
    "# Alternative LLM"
   ]
  },
  {
   "cell_type": "code",
   "execution_count": null,
   "metadata": {},
   "outputs": [],
   "source": [
    "#Groq Api link : https://console.groq.com/login\n"
   ]
  },
  {
   "cell_type": "code",
   "execution_count": 26,
   "metadata": {},
   "outputs": [],
   "source": [
    "import os\n",
    "from dotenv import load_dotenv, find_dotenv\n",
    "_ = load_dotenv(find_dotenv())"
   ]
  },
  {
   "cell_type": "code",
   "execution_count": 27,
   "metadata": {},
   "outputs": [],
   "source": [
    "from langchain_groq import ChatGroq\n",
    "\n",
    "llamaChatModel = ChatGroq(\n",
    "    model=\"llama3-70b-8192\"\n",
    ")"
   ]
  },
  {
   "cell_type": "code",
   "execution_count": 28,
   "metadata": {},
   "outputs": [],
   "source": [
    "mistralChatModel = ChatGroq(\n",
    "    model=\"mixtral-8x7b-32768\"\n",
    ")"
   ]
  },
  {
   "cell_type": "code",
   "execution_count": 29,
   "metadata": {},
   "outputs": [],
   "source": [
    "#Pass the system and user prompt\n",
    "messages = [\n",
    "    (\"system\", \"You are an historian expert in the Kennedy family.\"),\n",
    "    (\"human\", \"How many members of the family died tragically?\"),\n",
    "]"
   ]
  },
  {
   "cell_type": "code",
   "execution_count": 30,
   "metadata": {},
   "outputs": [],
   "source": [
    "llamaResponse = llamaChatModel.invoke(messages)"
   ]
  },
  {
   "cell_type": "code",
   "execution_count": 31,
   "metadata": {},
   "outputs": [
    {
     "name": "stdout",
     "output_type": "stream",
     "text": [
      "The Kennedy family has indeed been marked by a series of tragic events and untimely deaths. Here's a brief rundown:\n",
      "\n",
      "1. Joseph P. Kennedy Jr. (1915-1944): The eldest son of Joseph P. Kennedy Sr. and Rose Kennedy, Joe Jr. was a naval aviator who was killed in action during World War II. He was just 29 years old.\n",
      "2. Kathleen Kennedy (1920-1948): Known as \"Kick,\" Kathleen was the fourth child and second daughter of the Kennedy family. She died in a plane crash in France at the age of 28.\n",
      "3. John F. Kennedy (1917-1963): The 35th President of the United States, John F. Kennedy was assassinated in Dallas, Texas, on November 22, 1963, at the age of 46.\n",
      "4. Robert F. Kennedy (1925-1968): John's younger brother and Attorney General of the United States, Robert was assassinated on June 5, 1968, during his presidential campaign, at the age of 42.\n",
      "5. David Kennedy (1955-1984): The son of Robert F. Kennedy, David died of a drug overdose in 1984 at the age of 28.\n",
      "6. Michael Kennedy (1958-1997): Another son of Robert F. Kennedy, Michael died in a skiing accident in Colorado in 1997, at the age of 39.\n",
      "7. John F. Kennedy Jr. (1960-1999): The son of John F. Kennedy and Jacqueline Kennedy Onassis, John Jr. died in a plane crash, which he was piloting, off the coast of Massachusetts in 1999, at the age of 38.\n",
      "8. Kara Kennedy (1960-2011): The daughter of Ted Kennedy, Kara died of a heart attack while exercising at a health club in 2011, at the age of 51.\n",
      "9. Mary Richardson Kennedy (1959-2012): The estranged wife of Robert F. Kennedy Jr., Mary died by suicide in 2012, at the age of 52.\n",
      "10. Saoirse Kennedy Hill (1997-2019): The granddaughter of Robert F. Kennedy, Saoirse died by suicide in 2019, at the age of 22.\n",
      "\n",
      "These tragic events have indeed cast a long shadow over the Kennedy family's history, earning them the reputation as one of America's most cursed families.\n"
     ]
    }
   ],
   "source": [
    "print(llamaResponse.content)"
   ]
  },
  {
   "cell_type": "code",
   "execution_count": 32,
   "metadata": {},
   "outputs": [],
   "source": [
    "mistralResponse = mistralChatModel.invoke(messages)"
   ]
  },
  {
   "cell_type": "code",
   "execution_count": 33,
   "metadata": {},
   "outputs": [
    {
     "name": "stdout",
     "output_type": "stream",
     "text": [
      "The Kennedy family has experienced more than its share of tragedy, with several members dying under unfortunate circumstances. Here are some of the most notable cases:\n",
      "\n",
      "1. Joseph P. Kennedy Sr.'s car accident: In 1938, Joseph P. Kennedy Sr., the family patriarch, was involved in a car accident that left him with a serious spinal injury and forced him to use a wheelchair for the rest of his life.\n",
      "\n",
      "2. Joseph P. Kennedy Jr.'s death in World War II: Joseph P. Kennedy Jr., the eldest son of Joseph P. Kennedy Sr. and Rose Fitzgerald Kennedy, was a Navy pilot who died in 1944 during a top-secret mission in World War II.\n",
      "\n",
      "3. Kathleen Kennedy's plane crash: Kathleen \"Kick\" Kennedy, the fourth child of Joseph P. Kennedy Sr. and Rose Fitzgerald Kennedy, died in a plane crash in 1948 while traveling to France.\n",
      "\n",
      "4. John F. Kennedy's assassination: President John F. Kennedy, the second son of Joseph P. Kennedy Sr. and Rose Fitzgerald Kennedy, was assassinated in Dallas, Texas, in 1963.\n",
      "\n",
      "5. Robert F. Kennedy's assassination: Robert F. Kennedy, the third son of Joseph P. Kennedy Sr. and Rose Fitzgerald Kennedy and Attorney General during his brother's presidency, was assassinated in Los Angeles, California, in 1968.\n",
      "\n",
      "6. Joseph P. Kennedy II's near-fatal accident: Joseph P. Kennedy II, the second son of Robert F. Kennedy and Ethel Skakel Kennedy, suffered severe injuries in a 1973 train accident that nearly took his life.\n",
      "\n",
      "7. David Kennedy's drug overdose: David Kennedy, the fourth son of Robert F. Kennedy and Ethel Skakel Kennedy, died of a drug overdose in 1984.\n",
      "\n",
      "8. Michael Kennedy's skiing accident: Michael Kennedy, the fifth son of Robert F. Kennedy and Ethel Skakel Kennedy, died in a skiing accident in 1997.\n",
      "\n",
      "9. John F. Kennedy Jr.'s plane crash: John F. Kennedy Jr., the only son of President John F. Kennedy and Jacqueline Kennedy Onassis, died in a plane crash in 1999.\n",
      "\n",
      "While these are some of the most well-known tragic events involving the Kennedy family, there are other instances of untimely deaths and misfortune as well.\n"
     ]
    }
   ],
   "source": [
    "print(mistralResponse.content)"
   ]
  },
  {
   "cell_type": "code",
   "execution_count": null,
   "metadata": {},
   "outputs": [],
   "source": []
  }
 ],
 "metadata": {
  "kernelspec": {
   "display_name": "langchain_latest",
   "language": "python",
   "name": "python3"
  },
  "language_info": {
   "codemirror_mode": {
    "name": "ipython",
    "version": 3
   },
   "file_extension": ".py",
   "mimetype": "text/x-python",
   "name": "python",
   "nbconvert_exporter": "python",
   "pygments_lexer": "ipython3",
   "version": "3.11.11"
  }
 },
 "nbformat": 4,
 "nbformat_minor": 2
}
